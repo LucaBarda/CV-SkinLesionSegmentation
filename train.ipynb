{
 "cells": [
  {
   "cell_type": "markdown",
   "metadata": {},
   "source": [
    "### Imports"
   ]
  },
  {
   "cell_type": "code",
   "execution_count": null,
   "metadata": {},
   "outputs": [],
   "source": [
    "import matplotlib.pyplot as plt\n",
    "import numpy as np\n",
    "import tensorflow as tf\n",
    "\n",
    "# Custom modules\n",
    "import tf_utils as tfu\n",
    "import unets as un"
   ]
  },
  {
   "cell_type": "markdown",
   "metadata": {},
   "source": [
    "## Training"
   ]
  },
  {
   "cell_type": "markdown",
   "metadata": {},
   "source": [
    "### Prepare Training Set"
   ]
  },
  {
   "cell_type": "code",
   "execution_count": null,
   "metadata": {},
   "outputs": [],
   "source": [
    "# Set the directory paths\n",
    "train_image_folder = 'ISIC-Merged/train_images'\n",
    "train_mask_folder = 'ISIC-Merged/train_masks'\n",
    "\n",
    "# Load the dataset\n",
    "train_dataset = tfu.load_data(train_image_folder, train_mask_folder)\n",
    "\n",
    "# Check the dataset shapes (optional)\n",
    "for images, masks in train_dataset.take(1):\n",
    "    print(\"Image batch shape:\", images.shape)\n",
    "    print(\"Mask batch shape:\", masks.shape)\n",
    "\n",
    "    plt.figure(figsize=(5, 30))  # Adjust figure size\n",
    "\n",
    "    for i in range(16):  # Loop through first batch\n",
    "        # Display the input image\n",
    "        plt.subplot(16, 2, 2 * i + 1)  # Arrange in 16 rows, 2 columns\n",
    "        plt.imshow(images[i].numpy())  # Convert tensor to NumPy\n",
    "        plt.title(\"Input Image\")\n",
    "        plt.axis(\"off\")\n",
    "\n",
    "        # Display the corresponding mask\n",
    "        plt.subplot(16, 2, 2 * i + 2)\n",
    "        plt.imshow(masks[i].numpy().squeeze(), cmap=\"gray\")  # Ensure grayscale\n",
    "        plt.title(\"Segmentation Mask\")\n",
    "        plt.axis(\"off\")\n",
    "\n",
    "    plt.show()"
   ]
  },
  {
   "cell_type": "markdown",
   "metadata": {},
   "source": [
    "### Prepare Validation set"
   ]
  },
  {
   "cell_type": "code",
   "execution_count": null,
   "metadata": {},
   "outputs": [],
   "source": [
    "# Set the directory paths\n",
    "valid_image_folder = 'ISIC-Merged/val_images'\n",
    "valid_mask_folder = 'ISIC-Merged/val_masks'\n",
    "\n",
    "# Load the dataset\n",
    "valid_dataset = tfu.load_data(valid_image_folder, valid_mask_folder)\n",
    "\n",
    "# Check the dataset shapes (optional)\n",
    "for images, masks in valid_dataset.take(1):\n",
    "    print(\"Image batch shape:\", images.shape)\n",
    "    print(\"Mask batch shape:\", masks.shape)\n",
    "\n",
    "    plt.figure(figsize=(5, 30))  # Adjust figure size\n",
    "\n",
    "    for i in range(16):  # Loop through first batch\n",
    "        # Display the input image\n",
    "        plt.subplot(16, 2, 2 * i + 1)  # Arrange in 16 rows, 2 columns\n",
    "        plt.imshow(images[i].numpy())  # Convert tensor to NumPy\n",
    "        plt.title(\"Input Image\")\n",
    "        plt.axis(\"off\")\n",
    "\n",
    "        # Display the corresponding mask\n",
    "        plt.subplot(16, 2, 2 * i + 2)\n",
    "        plt.imshow(masks[i].numpy().squeeze(), cmap=\"gray\")  # Ensure grayscale\n",
    "        plt.title(\"Segmentation Mask\")\n",
    "        plt.axis(\"off\")\n",
    "\n",
    "    plt.show()"
   ]
  },
  {
   "cell_type": "markdown",
   "metadata": {},
   "source": [
    "### Instantiate the network"
   ]
  },
  {
   "cell_type": "code",
   "execution_count": null,
   "metadata": {},
   "outputs": [],
   "source": [
    "# Instantiate the model\n",
    "unet = un.UNet4(input_size=(256, 256, 3), num_classes=1)\n",
    "\n",
    "# Call the model with a random input to build the model\n",
    "out = unet.call(tf.random.normal((1, 256, 256, 3)))\n",
    "print(out.shape) # Make sure the output shape is correct\n",
    "\n",
    "unet.summary()"
   ]
  },
  {
   "cell_type": "markdown",
   "metadata": {},
   "source": [
    "### Check GPU availability"
   ]
  },
  {
   "cell_type": "code",
   "execution_count": null,
   "metadata": {},
   "outputs": [],
   "source": [
    "# Determine the number of GPUs available\n",
    "print(\"Num GPUs Available: \", len(tf.config.experimental.list_physical_devices('GPU')))\n",
    "print(tf.config.list_physical_devices('GPU'))\n",
    "\n",
    "print(\"TensorFlow version\", tf.__version__)\n",
    "\n",
    "print(\"GPU Details: \", tf.config.experimental.list_physical_devices('GPU'))"
   ]
  },
  {
   "cell_type": "markdown",
   "metadata": {},
   "source": [
    "### Callbacks"
   ]
  },
  {
   "cell_type": "code",
   "execution_count": null,
   "metadata": {},
   "outputs": [],
   "source": [
    "from tensorflow.keras.callbacks import EarlyStopping, ReduceLROnPlateau\n",
    "\n",
    "# Define callbacks\n",
    "early_stopping = EarlyStopping(\n",
    "    monitor=\"val_loss\",   # Monitor validation loss\n",
    "    patience=16,           # Stop if val_loss doesn't improve for 10 epochs\n",
    "    restore_best_weights=True # Restore best weights after stopping\n",
    ")\n",
    "\n",
    "reduce_lr = ReduceLROnPlateau(\n",
    "    monitor=\"val_loss\",   # Monitor validation loss\n",
    "    factor=0.5,           # Reduce LR by half when plateauing\n",
    "    patience=5,           # Wait 5 epochs before reducing LR\n",
    "    min_lr=1e-6           # Set a minimum learning rate\n",
    ")"
   ]
  },
  {
   "cell_type": "markdown",
   "metadata": {},
   "source": [
    "### Compile and Train"
   ]
  },
  {
   "cell_type": "code",
   "execution_count": null,
   "metadata": {},
   "outputs": [],
   "source": [
    "# Compile the model\n",
    "unet.compile(\n",
    "    optimizer=tf.keras.optimizers.Adam(learning_rate=1e-3, clipnorm=1.0), \n",
    "    loss=tfu.bce_dice_loss,\n",
    "    metrics=[tfu.jaccard_index])\n",
    "\n",
    "# Train the model\n",
    "history = unet.fit(\n",
    "    train_dataset, \n",
    "    validation_data=valid_dataset,\n",
    "    epochs=200, # Adjust the number of epochs as needed\n",
    "    callbacks=[early_stopping, reduce_lr])"
   ]
  },
  {
   "cell_type": "markdown",
   "metadata": {},
   "source": [
    "### Save the model"
   ]
  },
  {
   "cell_type": "code",
   "execution_count": null,
   "metadata": {},
   "outputs": [],
   "source": [
    "# Save the model in native Keras format\n",
    "unet.save('unet_model.keras')\n",
    "\n",
    "# Save only the model weights in HDF5 format\n",
    "unet.save_weights(\"unet_weights.weights.h5\")"
   ]
  },
  {
   "cell_type": "markdown",
   "metadata": {},
   "source": [
    "## Testing"
   ]
  },
  {
   "cell_type": "markdown",
   "metadata": {},
   "source": [
    "### Preparing Testing set"
   ]
  },
  {
   "cell_type": "code",
   "execution_count": null,
   "metadata": {},
   "outputs": [],
   "source": [
    "# Set the directory paths\n",
    "test_image_folder = 'ISIC-Merged/test_images'\n",
    "test_mask_folder = 'ISIC-Merged/test_masks'\n",
    "\n",
    "# Load the dataset\n",
    "test_dataset = tfu.load_data(test_image_folder, test_mask_folder)\n",
    "\n",
    "# Check the dataset shapes (optional)\n",
    "for images, masks in test_dataset.take(1):\n",
    "    print(\"Image batch shape:\", images.shape)\n",
    "    print(\"Mask batch shape:\", masks.shape)"
   ]
  },
  {
   "cell_type": "code",
   "execution_count": null,
   "metadata": {},
   "outputs": [],
   "source": [
    "# Evaluate the model on the test dataset\n",
    "loss, accuracy = unet.evaluate(test_dataset)"
   ]
  },
  {
   "cell_type": "markdown",
   "metadata": {},
   "source": [
    "## History"
   ]
  },
  {
   "cell_type": "code",
   "execution_count": null,
   "metadata": {},
   "outputs": [],
   "source": [
    "import json\n",
    "\n",
    "# Save history to a JSON file\n",
    "with open('training_history.json', 'w') as f:\n",
    "    json.dump(history.history, f)"
   ]
  },
  {
   "cell_type": "markdown",
   "metadata": {},
   "source": [
    "### Training and Validation Loss"
   ]
  },
  {
   "cell_type": "code",
   "execution_count": null,
   "metadata": {},
   "outputs": [],
   "source": [
    "# Load history from JSON file\n",
    "with open('training_history.json', 'r') as f:\n",
    "    loaded_history = json.load(f)\n",
    "\n",
    "# Example: Access training and validation loss\n",
    "train_loss = loaded_history['loss']\n",
    "val_loss = loaded_history['val_loss']\n",
    "\n",
    "epochs = range(1, len(train_loss) + 1)\n",
    "\n",
    "plt.figure(figsize=(8, 6))\n",
    "plt.plot(epochs, train_loss, label='Training Loss', color='blue')\n",
    "plt.plot(epochs, val_loss, label='Validation Loss', color='red', linestyle='--')\n",
    "plt.xlabel('Epochs')\n",
    "plt.ylabel('Loss')\n",
    "plt.title('Training and Validation Loss')\n",
    "plt.legend()\n",
    "plt.grid(True)\n",
    "plt.show()"
   ]
  },
  {
   "cell_type": "markdown",
   "metadata": {},
   "source": [
    "### Training and Validation Jaccard Index"
   ]
  },
  {
   "cell_type": "code",
   "execution_count": null,
   "metadata": {},
   "outputs": [],
   "source": [
    "# Load history from JSON file\n",
    "with open('training_history.json', 'r') as f:\n",
    "    loaded_history = json.load(f)\n",
    "\n",
    "# Example: Access training and validation loss\n",
    "train_jaccard_idx = loaded_history['jaccard_index']\n",
    "val_jaccard_idx = loaded_history['val_jaccard_index']\n",
    "\n",
    "epochs = range(1, len(train_loss) + 1)\n",
    "\n",
    "plt.figure(figsize=(8, 6))\n",
    "plt.plot(epochs, train_jaccard_idx, label='Training Jaccard Index', color='blue')\n",
    "plt.plot(epochs, val_jaccard_idx, label='Validation Jaccard Index', color='red', linestyle='--')\n",
    "plt.xlabel('Epochs')\n",
    "plt.ylabel('Loss')\n",
    "plt.title('Training and Validation Jaccard Index')\n",
    "plt.legend()\n",
    "plt.grid(True)\n",
    "plt.show()"
   ]
  }
 ],
 "metadata": {
  "kernelspec": {
   "display_name": ".venv",
   "language": "python",
   "name": "python3"
  },
  "language_info": {
   "codemirror_mode": {
    "name": "ipython",
    "version": 3
   },
   "file_extension": ".py",
   "mimetype": "text/x-python",
   "name": "python",
   "nbconvert_exporter": "python",
   "pygments_lexer": "ipython3",
   "version": "3.10.7"
  }
 },
 "nbformat": 4,
 "nbformat_minor": 2
}
